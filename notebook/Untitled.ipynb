{
 "cells": [
  {
   "cell_type": "code",
   "execution_count": 1,
   "id": "138bc1eb",
   "metadata": {},
   "outputs": [],
   "source": [
    "import requests\n",
    "import matplotlib.pyplot as plt\n",
    "import pandas as pd\n"
   ]
  },
  {
   "cell_type": "code",
   "execution_count": 2,
   "id": "5832ae73",
   "metadata": {},
   "outputs": [],
   "source": [
    "endpoint = 'https://data.nashville.gov/resource/fuaa-r5cm.json'"
   ]
  },
  {
   "cell_type": "code",
   "execution_count": 3,
   "id": "1a5e6008",
   "metadata": {},
   "outputs": [],
   "source": [
    "response = requests.get(endpoint)"
   ]
  },
  {
   "cell_type": "code",
   "execution_count": 4,
   "id": "ea00472d",
   "metadata": {},
   "outputs": [
    {
     "data": {
      "text/plain": [
       "<Response [200]>"
      ]
     },
     "execution_count": 4,
     "metadata": {},
     "output_type": "execute_result"
    }
   ],
   "source": [
    "response"
   ]
  },
  {
   "cell_type": "code",
   "execution_count": 5,
   "id": "d02f69fe",
   "metadata": {},
   "outputs": [],
   "source": [
    "result = response.json()"
   ]
  },
  {
   "cell_type": "code",
   "execution_count": 6,
   "id": "310649db",
   "metadata": {},
   "outputs": [],
   "source": [
    "search_dict = {}\n",
    "for line in result:\n",
    "    count = int(line.get('query_count'))\n",
    "    text = line.get('query_text')\n",
    "    if text in search_dict:\n",
    "        search_dict[text] += count\n",
    "    else:\n",
    "        search_dict[text] = count"
   ]
  },
  {
   "cell_type": "code",
   "execution_count": 7,
   "id": "7b7da347",
   "metadata": {},
   "outputs": [
    {
     "data": {
      "text/html": [
       "<div>\n",
       "<style scoped>\n",
       "    .dataframe tbody tr th:only-of-type {\n",
       "        vertical-align: middle;\n",
       "    }\n",
       "\n",
       "    .dataframe tbody tr th {\n",
       "        vertical-align: top;\n",
       "    }\n",
       "\n",
       "    .dataframe thead th {\n",
       "        text-align: right;\n",
       "    }\n",
       "</style>\n",
       "<table border=\"1\" class=\"dataframe\">\n",
       "  <thead>\n",
       "    <tr style=\"text-align: right;\">\n",
       "      <th></th>\n",
       "      <th>term</th>\n",
       "      <th>text</th>\n",
       "    </tr>\n",
       "  </thead>\n",
       "  <tbody>\n",
       "    <tr>\n",
       "      <th>0</th>\n",
       "      <td>ebid</td>\n",
       "      <td>521</td>\n",
       "    </tr>\n",
       "    <tr>\n",
       "      <th>1</th>\n",
       "      <td>property maps</td>\n",
       "      <td>252</td>\n",
       "    </tr>\n",
       "    <tr>\n",
       "      <th>2</th>\n",
       "      <td>maps</td>\n",
       "      <td>237</td>\n",
       "    </tr>\n",
       "    <tr>\n",
       "      <th>3</th>\n",
       "      <td>property tax</td>\n",
       "      <td>214</td>\n",
       "    </tr>\n",
       "    <tr>\n",
       "      <th>4</th>\n",
       "      <td>jobs</td>\n",
       "      <td>210</td>\n",
       "    </tr>\n",
       "  </tbody>\n",
       "</table>\n",
       "</div>"
      ],
      "text/plain": [
       "            term  text\n",
       "0           ebid   521\n",
       "1  property maps   252\n",
       "2           maps   237\n",
       "3   property tax   214\n",
       "4           jobs   210"
      ]
     },
     "execution_count": 7,
     "metadata": {},
     "output_type": "execute_result"
    }
   ],
   "source": [
    "search_df = pd.DataFrame.from_dict(search_dict, orient = 'index')\n",
    "search_df = search_df.reset_index()\n",
    "search_df.columns = ['term', 'text']\n",
    "search_df.head()"
   ]
  },
  {
   "cell_type": "code",
   "execution_count": 8,
   "id": "4e96136b",
   "metadata": {},
   "outputs": [
    {
     "data": {
      "text/html": [
       "<div>\n",
       "<style scoped>\n",
       "    .dataframe tbody tr th:only-of-type {\n",
       "        vertical-align: middle;\n",
       "    }\n",
       "\n",
       "    .dataframe tbody tr th {\n",
       "        vertical-align: top;\n",
       "    }\n",
       "\n",
       "    .dataframe thead th {\n",
       "        text-align: right;\n",
       "    }\n",
       "</style>\n",
       "<table border=\"1\" class=\"dataframe\">\n",
       "  <thead>\n",
       "    <tr style=\"text-align: right;\">\n",
       "      <th></th>\n",
       "      <th>term</th>\n",
       "      <th>text</th>\n",
       "    </tr>\n",
       "  </thead>\n",
       "  <tbody>\n",
       "    <tr>\n",
       "      <th>0</th>\n",
       "      <td>ebid</td>\n",
       "      <td>521</td>\n",
       "    </tr>\n",
       "    <tr>\n",
       "      <th>1</th>\n",
       "      <td>property maps</td>\n",
       "      <td>252</td>\n",
       "    </tr>\n",
       "    <tr>\n",
       "      <th>2</th>\n",
       "      <td>maps</td>\n",
       "      <td>237</td>\n",
       "    </tr>\n",
       "    <tr>\n",
       "      <th>10</th>\n",
       "      <td>property taxes</td>\n",
       "      <td>235</td>\n",
       "    </tr>\n",
       "    <tr>\n",
       "      <th>3</th>\n",
       "      <td>property tax</td>\n",
       "      <td>214</td>\n",
       "    </tr>\n",
       "    <tr>\n",
       "      <th>4</th>\n",
       "      <td>jobs</td>\n",
       "      <td>210</td>\n",
       "    </tr>\n",
       "    <tr>\n",
       "      <th>5</th>\n",
       "      <td>employment</td>\n",
       "      <td>189</td>\n",
       "    </tr>\n",
       "    <tr>\n",
       "      <th>7</th>\n",
       "      <td>police</td>\n",
       "      <td>167</td>\n",
       "    </tr>\n",
       "    <tr>\n",
       "      <th>8</th>\n",
       "      <td>criminal court clerk</td>\n",
       "      <td>167</td>\n",
       "    </tr>\n",
       "    <tr>\n",
       "      <th>9</th>\n",
       "      <td>media releases</td>\n",
       "      <td>165</td>\n",
       "    </tr>\n",
       "  </tbody>\n",
       "</table>\n",
       "</div>"
      ],
      "text/plain": [
       "                    term  text\n",
       "0                   ebid   521\n",
       "1          property maps   252\n",
       "2                   maps   237\n",
       "10        property taxes   235\n",
       "3           property tax   214\n",
       "4                   jobs   210\n",
       "5             employment   189\n",
       "7                 police   167\n",
       "8   criminal court clerk   167\n",
       "9         media releases   165"
      ]
     },
     "execution_count": 8,
     "metadata": {},
     "output_type": "execute_result"
    }
   ],
   "source": [
    "search_df = search_df.sort_values('text', ascending=False)\n",
    "search_df.head(10)"
   ]
  },
  {
   "cell_type": "markdown",
   "id": "df94fe94",
   "metadata": {},
   "source": [
    "### Question 1: Make an API request that returns the months where \"fire\" was searched in 2016. Which month had the most searches?"
   ]
  },
  {
   "cell_type": "code",
   "execution_count": 19,
   "id": "2d6e46aa",
   "metadata": {},
   "outputs": [],
   "source": [
    "endpoint ='https://data.nashville.gov/resource/fuaa-r5cm.json'"
   ]
  },
  {
   "cell_type": "code",
   "execution_count": 20,
   "id": "ec9e1536",
   "metadata": {},
   "outputs": [],
   "source": [
    "args = '?year=2016&query_text=fire&$limit=50000'"
   ]
  },
  {
   "cell_type": "code",
   "execution_count": 21,
   "id": "bf09d757",
   "metadata": {},
   "outputs": [],
   "source": [
    "fire = endpoint + args"
   ]
  },
  {
   "cell_type": "code",
   "execution_count": 22,
   "id": "40f1585a",
   "metadata": {},
   "outputs": [],
   "source": [
    "response = requests.get(fire)"
   ]
  },
  {
   "cell_type": "code",
   "execution_count": 23,
   "id": "f8e31e26",
   "metadata": {},
   "outputs": [
    {
     "data": {
      "text/plain": [
       "<Response [200]>"
      ]
     },
     "execution_count": 23,
     "metadata": {},
     "output_type": "execute_result"
    }
   ],
   "source": [
    "response"
   ]
  },
  {
   "cell_type": "code",
   "execution_count": 24,
   "id": "e522267e",
   "metadata": {},
   "outputs": [],
   "source": [
    "fire_df = pd.read_json(fire)"
   ]
  },
  {
   "cell_type": "code",
   "execution_count": 25,
   "id": "2fefa10d",
   "metadata": {},
   "outputs": [],
   "source": [
    "fire_df = fire_df.reset_index(drop= True)"
   ]
  },
  {
   "cell_type": "code",
   "execution_count": 26,
   "id": "36a16b25",
   "metadata": {},
   "outputs": [],
   "source": [
    "fire_df = fire_df.sort_values('query_count',ascending = False)"
   ]
  },
  {
   "cell_type": "code",
   "execution_count": 27,
   "id": "5c24d0a1",
   "metadata": {},
   "outputs": [
    {
     "data": {
      "text/html": [
       "<div>\n",
       "<style scoped>\n",
       "    .dataframe tbody tr th:only-of-type {\n",
       "        vertical-align: middle;\n",
       "    }\n",
       "\n",
       "    .dataframe tbody tr th {\n",
       "        vertical-align: top;\n",
       "    }\n",
       "\n",
       "    .dataframe thead th {\n",
       "        text-align: right;\n",
       "    }\n",
       "</style>\n",
       "<table border=\"1\" class=\"dataframe\">\n",
       "  <thead>\n",
       "    <tr style=\"text-align: right;\">\n",
       "      <th></th>\n",
       "      <th>month_name</th>\n",
       "      <th>year</th>\n",
       "      <th>query_count</th>\n",
       "      <th>query_text</th>\n",
       "    </tr>\n",
       "  </thead>\n",
       "  <tbody>\n",
       "    <tr>\n",
       "      <th>7</th>\n",
       "      <td>August</td>\n",
       "      <td>2016</td>\n",
       "      <td>47</td>\n",
       "      <td>fire</td>\n",
       "    </tr>\n",
       "    <tr>\n",
       "      <th>9</th>\n",
       "      <td>October</td>\n",
       "      <td>2016</td>\n",
       "      <td>38</td>\n",
       "      <td>fire</td>\n",
       "    </tr>\n",
       "    <tr>\n",
       "      <th>11</th>\n",
       "      <td>December</td>\n",
       "      <td>2016</td>\n",
       "      <td>38</td>\n",
       "      <td>fire</td>\n",
       "    </tr>\n",
       "    <tr>\n",
       "      <th>8</th>\n",
       "      <td>September</td>\n",
       "      <td>2016</td>\n",
       "      <td>36</td>\n",
       "      <td>fire</td>\n",
       "    </tr>\n",
       "    <tr>\n",
       "      <th>1</th>\n",
       "      <td>February</td>\n",
       "      <td>2016</td>\n",
       "      <td>35</td>\n",
       "      <td>fire</td>\n",
       "    </tr>\n",
       "    <tr>\n",
       "      <th>2</th>\n",
       "      <td>March</td>\n",
       "      <td>2016</td>\n",
       "      <td>32</td>\n",
       "      <td>fire</td>\n",
       "    </tr>\n",
       "    <tr>\n",
       "      <th>10</th>\n",
       "      <td>November</td>\n",
       "      <td>2016</td>\n",
       "      <td>32</td>\n",
       "      <td>fire</td>\n",
       "    </tr>\n",
       "    <tr>\n",
       "      <th>5</th>\n",
       "      <td>June</td>\n",
       "      <td>2016</td>\n",
       "      <td>31</td>\n",
       "      <td>fire</td>\n",
       "    </tr>\n",
       "    <tr>\n",
       "      <th>3</th>\n",
       "      <td>April</td>\n",
       "      <td>2016</td>\n",
       "      <td>26</td>\n",
       "      <td>fire</td>\n",
       "    </tr>\n",
       "    <tr>\n",
       "      <th>4</th>\n",
       "      <td>May</td>\n",
       "      <td>2016</td>\n",
       "      <td>24</td>\n",
       "      <td>fire</td>\n",
       "    </tr>\n",
       "    <tr>\n",
       "      <th>6</th>\n",
       "      <td>July</td>\n",
       "      <td>2016</td>\n",
       "      <td>24</td>\n",
       "      <td>fire</td>\n",
       "    </tr>\n",
       "    <tr>\n",
       "      <th>0</th>\n",
       "      <td>January</td>\n",
       "      <td>2016</td>\n",
       "      <td>19</td>\n",
       "      <td>fire</td>\n",
       "    </tr>\n",
       "  </tbody>\n",
       "</table>\n",
       "</div>"
      ],
      "text/plain": [
       "   month_name  year  query_count query_text\n",
       "7      August  2016           47       fire\n",
       "9     October  2016           38       fire\n",
       "11   December  2016           38       fire\n",
       "8   September  2016           36       fire\n",
       "1    February  2016           35       fire\n",
       "2       March  2016           32       fire\n",
       "10   November  2016           32       fire\n",
       "5        June  2016           31       fire\n",
       "3       April  2016           26       fire\n",
       "4         May  2016           24       fire\n",
       "6        July  2016           24       fire\n",
       "0     January  2016           19       fire"
      ]
     },
     "execution_count": 27,
     "metadata": {},
     "output_type": "execute_result"
    }
   ],
   "source": [
    "fire_df"
   ]
  },
  {
   "cell_type": "markdown",
   "id": "e0a98370",
   "metadata": {},
   "source": [
    "#### Fire was searched the most in August"
   ]
  },
  {
   "cell_type": "markdown",
   "id": "59a4ce10",
   "metadata": {},
   "source": [
    "### Question 2: Make an API request that returns all the times a query was run more than 100 times in a month. How many times did this occur?"
   ]
  },
  {
   "cell_type": "code",
   "execution_count": 36,
   "id": "75f2f3c2",
   "metadata": {},
   "outputs": [],
   "source": [
    "endpoint ='https://data.nashville.gov/resource/fuaa-r5cm.json'"
   ]
  },
  {
   "cell_type": "code",
   "execution_count": 37,
   "id": "9a35b22a",
   "metadata": {},
   "outputs": [],
   "source": [
    "args = '?$where=query_count>100&$limit=10000'"
   ]
  },
  {
   "cell_type": "code",
   "execution_count": 38,
   "id": "457b4651",
   "metadata": {},
   "outputs": [],
   "source": [
    "query_large = endpoint + args"
   ]
  },
  {
   "cell_type": "code",
   "execution_count": 39,
   "id": "e3009c02",
   "metadata": {},
   "outputs": [],
   "source": [
    "response = requests.get(query_large)"
   ]
  },
  {
   "cell_type": "code",
   "execution_count": 40,
   "id": "328dfb17",
   "metadata": {},
   "outputs": [
    {
     "data": {
      "text/plain": [
       "1262"
      ]
     },
     "execution_count": 40,
     "metadata": {},
     "output_type": "execute_result"
    }
   ],
   "source": [
    "result = response.json()\n",
    "len(result)"
   ]
  },
  {
   "cell_type": "code",
   "execution_count": 41,
   "id": "4b10dd01",
   "metadata": {},
   "outputs": [],
   "source": [
    "query_large_df = pd.read_json(query_large)"
   ]
  },
  {
   "cell_type": "code",
   "execution_count": 42,
   "id": "51fc1c37",
   "metadata": {},
   "outputs": [
    {
     "data": {
      "text/html": [
       "<div>\n",
       "<style scoped>\n",
       "    .dataframe tbody tr th:only-of-type {\n",
       "        vertical-align: middle;\n",
       "    }\n",
       "\n",
       "    .dataframe tbody tr th {\n",
       "        vertical-align: top;\n",
       "    }\n",
       "\n",
       "    .dataframe thead th {\n",
       "        text-align: right;\n",
       "    }\n",
       "</style>\n",
       "<table border=\"1\" class=\"dataframe\">\n",
       "  <thead>\n",
       "    <tr style=\"text-align: right;\">\n",
       "      <th></th>\n",
       "      <th>month_name</th>\n",
       "      <th>year</th>\n",
       "      <th>query_count</th>\n",
       "      <th>query_text</th>\n",
       "      <th>month</th>\n",
       "    </tr>\n",
       "  </thead>\n",
       "  <tbody>\n",
       "    <tr>\n",
       "      <th>0</th>\n",
       "      <td>March</td>\n",
       "      <td>2014</td>\n",
       "      <td>101</td>\n",
       "      <td>permits</td>\n",
       "      <td>NaN</td>\n",
       "    </tr>\n",
       "    <tr>\n",
       "      <th>1</th>\n",
       "      <td>January</td>\n",
       "      <td>2015</td>\n",
       "      <td>101</td>\n",
       "      <td>criminal court clerk</td>\n",
       "      <td>NaN</td>\n",
       "    </tr>\n",
       "    <tr>\n",
       "      <th>2</th>\n",
       "      <td>September</td>\n",
       "      <td>2015</td>\n",
       "      <td>101</td>\n",
       "      <td>codes</td>\n",
       "      <td>NaN</td>\n",
       "    </tr>\n",
       "    <tr>\n",
       "      <th>3</th>\n",
       "      <td>March</td>\n",
       "      <td>2016</td>\n",
       "      <td>101</td>\n",
       "      <td>police</td>\n",
       "      <td>NaN</td>\n",
       "    </tr>\n",
       "    <tr>\n",
       "      <th>4</th>\n",
       "      <td>March</td>\n",
       "      <td>2016</td>\n",
       "      <td>101</td>\n",
       "      <td>civil service</td>\n",
       "      <td>NaN</td>\n",
       "    </tr>\n",
       "    <tr>\n",
       "      <th>...</th>\n",
       "      <td>...</td>\n",
       "      <td>...</td>\n",
       "      <td>...</td>\n",
       "      <td>...</td>\n",
       "      <td>...</td>\n",
       "    </tr>\n",
       "    <tr>\n",
       "      <th>1257</th>\n",
       "      <td>September</td>\n",
       "      <td>2018</td>\n",
       "      <td>750</td>\n",
       "      <td>annual enrollment</td>\n",
       "      <td>NaN</td>\n",
       "    </tr>\n",
       "    <tr>\n",
       "      <th>1258</th>\n",
       "      <td>October</td>\n",
       "      <td>2018</td>\n",
       "      <td>816</td>\n",
       "      <td>annual enrollment</td>\n",
       "      <td>NaN</td>\n",
       "    </tr>\n",
       "    <tr>\n",
       "      <th>1259</th>\n",
       "      <td>January</td>\n",
       "      <td>2019</td>\n",
       "      <td>2646</td>\n",
       "      <td>Nashville</td>\n",
       "      <td>1.0</td>\n",
       "    </tr>\n",
       "    <tr>\n",
       "      <th>1260</th>\n",
       "      <td>September</td>\n",
       "      <td>2019</td>\n",
       "      <td>5327</td>\n",
       "      <td>directory</td>\n",
       "      <td>9.0</td>\n",
       "    </tr>\n",
       "    <tr>\n",
       "      <th>1261</th>\n",
       "      <td>September</td>\n",
       "      <td>2019</td>\n",
       "      <td>5610</td>\n",
       "      <td>test</td>\n",
       "      <td>9.0</td>\n",
       "    </tr>\n",
       "  </tbody>\n",
       "</table>\n",
       "<p>1262 rows × 5 columns</p>\n",
       "</div>"
      ],
      "text/plain": [
       "     month_name  year  query_count            query_text  month\n",
       "0         March  2014          101               permits    NaN\n",
       "1       January  2015          101  criminal court clerk    NaN\n",
       "2     September  2015          101                 codes    NaN\n",
       "3         March  2016          101                police    NaN\n",
       "4         March  2016          101         civil service    NaN\n",
       "...         ...   ...          ...                   ...    ...\n",
       "1257  September  2018          750     annual enrollment    NaN\n",
       "1258    October  2018          816     annual enrollment    NaN\n",
       "1259    January  2019         2646             Nashville    1.0\n",
       "1260  September  2019         5327             directory    9.0\n",
       "1261  September  2019         5610                  test    9.0\n",
       "\n",
       "[1262 rows x 5 columns]"
      ]
     },
     "execution_count": 42,
     "metadata": {},
     "output_type": "execute_result"
    }
   ],
   "source": [
    "query_large_df"
   ]
  },
  {
   "cell_type": "markdown",
   "id": "be86e915",
   "metadata": {},
   "source": [
    "####  A query was run more than 100 times in a month 1,262 times"
   ]
  },
  {
   "cell_type": "markdown",
   "id": "8c3b4841",
   "metadata": {},
   "source": [
    "### Question 3: Make another API request that returns all the times \"codes\" was searched more than 100 times in a month. How many times did this occur?"
   ]
  },
  {
   "cell_type": "code",
   "execution_count": 43,
   "id": "13749e58",
   "metadata": {},
   "outputs": [],
   "source": [
    "endpoint ='https://data.nashville.gov/resource/fuaa-r5cm.json'"
   ]
  },
  {
   "cell_type": "code",
   "execution_count": 44,
   "id": "3e216b57",
   "metadata": {},
   "outputs": [],
   "source": [
    "args = '?$where=query_count>100&query_text=codes&$limit=10000'"
   ]
  },
  {
   "cell_type": "code",
   "execution_count": 45,
   "id": "469f3228",
   "metadata": {},
   "outputs": [],
   "source": [
    "big_codes = endpoint + args"
   ]
  },
  {
   "cell_type": "code",
   "execution_count": 46,
   "id": "8716d74d",
   "metadata": {},
   "outputs": [],
   "source": [
    "response = requests.get(big_codes)"
   ]
  },
  {
   "cell_type": "code",
   "execution_count": null,
   "id": "68f76eb2",
   "metadata": {},
   "outputs": [],
   "source": []
  },
  {
   "cell_type": "code",
   "execution_count": null,
   "id": "4e873efd",
   "metadata": {},
   "outputs": [],
   "source": []
  },
  {
   "cell_type": "code",
   "execution_count": null,
   "id": "ee9cb452",
   "metadata": {},
   "outputs": [],
   "source": []
  },
  {
   "cell_type": "code",
   "execution_count": null,
   "id": "1518b52d",
   "metadata": {},
   "outputs": [],
   "source": []
  },
  {
   "cell_type": "code",
   "execution_count": null,
   "id": "cd108c06",
   "metadata": {},
   "outputs": [],
   "source": []
  },
  {
   "cell_type": "code",
   "execution_count": null,
   "id": "885e9aab",
   "metadata": {},
   "outputs": [],
   "source": []
  },
  {
   "cell_type": "code",
   "execution_count": null,
   "id": "d0c9e700",
   "metadata": {},
   "outputs": [],
   "source": []
  },
  {
   "cell_type": "code",
   "execution_count": null,
   "id": "e2495b4a",
   "metadata": {},
   "outputs": [],
   "source": []
  },
  {
   "cell_type": "code",
   "execution_count": null,
   "id": "22497a41",
   "metadata": {},
   "outputs": [],
   "source": []
  },
  {
   "cell_type": "code",
   "execution_count": null,
   "id": "fb27dc98",
   "metadata": {},
   "outputs": [],
   "source": []
  },
  {
   "cell_type": "code",
   "execution_count": null,
   "id": "5f4a8fee",
   "metadata": {},
   "outputs": [],
   "source": []
  },
  {
   "cell_type": "code",
   "execution_count": null,
   "id": "cdd7640a",
   "metadata": {},
   "outputs": [],
   "source": []
  },
  {
   "cell_type": "code",
   "execution_count": null,
   "id": "ef66a820",
   "metadata": {},
   "outputs": [],
   "source": []
  },
  {
   "cell_type": "code",
   "execution_count": null,
   "id": "f8c96034",
   "metadata": {},
   "outputs": [],
   "source": []
  },
  {
   "cell_type": "code",
   "execution_count": null,
   "id": "ee2fd79b",
   "metadata": {},
   "outputs": [],
   "source": []
  },
  {
   "cell_type": "code",
   "execution_count": null,
   "id": "276f8932",
   "metadata": {},
   "outputs": [],
   "source": []
  },
  {
   "cell_type": "code",
   "execution_count": null,
   "id": "7ba1be45",
   "metadata": {},
   "outputs": [],
   "source": []
  },
  {
   "cell_type": "code",
   "execution_count": null,
   "id": "71ed8bd2",
   "metadata": {},
   "outputs": [],
   "source": []
  },
  {
   "cell_type": "code",
   "execution_count": null,
   "id": "ab3a72fd",
   "metadata": {},
   "outputs": [],
   "source": []
  },
  {
   "cell_type": "code",
   "execution_count": null,
   "id": "befe83c4",
   "metadata": {},
   "outputs": [],
   "source": []
  },
  {
   "cell_type": "code",
   "execution_count": null,
   "id": "7a09e348",
   "metadata": {},
   "outputs": [],
   "source": []
  },
  {
   "cell_type": "code",
   "execution_count": null,
   "id": "34915f0e",
   "metadata": {},
   "outputs": [],
   "source": []
  },
  {
   "cell_type": "code",
   "execution_count": null,
   "id": "00c96d61",
   "metadata": {},
   "outputs": [],
   "source": []
  },
  {
   "cell_type": "code",
   "execution_count": null,
   "id": "7301545e",
   "metadata": {},
   "outputs": [],
   "source": []
  },
  {
   "cell_type": "code",
   "execution_count": null,
   "id": "7e21b71e",
   "metadata": {},
   "outputs": [],
   "source": []
  },
  {
   "cell_type": "code",
   "execution_count": null,
   "id": "6ff6b201",
   "metadata": {},
   "outputs": [],
   "source": []
  },
  {
   "cell_type": "code",
   "execution_count": null,
   "id": "5b1a99c6",
   "metadata": {},
   "outputs": [],
   "source": []
  },
  {
   "cell_type": "code",
   "execution_count": null,
   "id": "9618b1d4",
   "metadata": {},
   "outputs": [],
   "source": []
  },
  {
   "cell_type": "code",
   "execution_count": null,
   "id": "4ec242d2",
   "metadata": {},
   "outputs": [],
   "source": []
  },
  {
   "cell_type": "code",
   "execution_count": null,
   "id": "69d6f9eb",
   "metadata": {},
   "outputs": [],
   "source": []
  }
 ],
 "metadata": {
  "kernelspec": {
   "display_name": "Python 3 (ipykernel)",
   "language": "python",
   "name": "python3"
  },
  "language_info": {
   "codemirror_mode": {
    "name": "ipython",
    "version": 3
   },
   "file_extension": ".py",
   "mimetype": "text/x-python",
   "name": "python",
   "nbconvert_exporter": "python",
   "pygments_lexer": "ipython3",
   "version": "3.9.12"
  }
 },
 "nbformat": 4,
 "nbformat_minor": 5
}
